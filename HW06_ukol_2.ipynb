{
 "cells": [
  {
   "cell_type": "markdown",
   "id": "3992057b-7308-44a2-a379-4efcd1bd8747",
   "metadata": {},
   "source": [
    "** X-GENRE classifier - multilingual text genre classifier **\n",
    "\n",
    "If you use the model, please cite the paper:\n",
    "\n",
    "@article{kuzman2023automatic,\n",
    "  title={Automatic Genre Identification for Robust Enrichment of Massive Text Collections: Investigation of Classification Methods in the Era of Large Language Models},\n",
    "  author={Kuzman, Taja and Mozeti{\\v{c}}, Igor and Ljube{\\v{s}}i{\\'c}, Nikola},\n",
    "  journal={Machine Learning and Knowledge Extraction},\n",
    "  volume={5},\n",
    "  number={3},\n",
    "  pages={1149--1175},\n",
    "  year={2023},\n",
    "  publisher={MDPI}\n",
    "}\n"
   ]
  },
  {
   "cell_type": "code",
   "execution_count": 1,
   "id": "8cc8a4da-d14b-4aaa-ae3f-3c0755da0542",
   "metadata": {},
   "outputs": [],
   "source": [
    "from datasets import load_dataset\n",
    "import numpy as np\n",
    "\n",
    "dataset = load_dataset(\"kotlarska2/osobnosti\")"
   ]
  },
  {
   "cell_type": "code",
   "execution_count": 2,
   "id": "ceae0a1a-d798-4e21-adff-aee8117558aa",
   "metadata": {},
   "outputs": [
    {
     "name": "stderr",
     "output_type": "stream",
     "text": [
      "/home/zeus/miniconda3/envs/cloudspace/lib/python3.10/site-packages/simpletransformers/classification/classification_model.py:484: UserWarning: use_multiprocessing automatically disabled as xlmroberta fails when using multiprocessing for feature conversion.\n",
      "  warnings.warn(\n"
     ]
    }
   ],
   "source": [
    "from simpletransformers.classification import ClassificationModel\n",
    "model_args= {\n",
    "            \"num_train_epochs\": 15,\n",
    "            \"learning_rate\": 1e-5,\n",
    "            \"max_seq_length\": 512,\n",
    "            \"silent\": True\n",
    "            }\n",
    "model = ClassificationModel(\n",
    "    \"xlmroberta\", \"classla/xlm-roberta-base-multilingual-text-genre-classifier\", use_cuda=True,\n",
    "    args=model_args\n",
    "    \n",
    ")\n",
    "predictions, logit_output = model.predict([\"How to create a good text classification model? First step is to prepare good data. Make sure not to skip the exploratory data analysis. Pre-process the text if necessary for the task. The next step is to perform hyperparameter search to find the optimum hyperparameters. After fine-tuning the model, you should look into the predictions and analyze the model's performance. You might want to perform the post-processing of data as well and keep only reliable predictions.\", \n",
    "                                        \"On our site, you can find a great genre identification model which you can use for thousands of different tasks. With our model, you can fastly and reliably obtain high-quality genre predictions and explore which genres exist in your corpora. Available for free!\"]\n",
    "                                        )\n"
   ]
  },
  {
   "cell_type": "code",
   "execution_count": 3,
   "id": "a41776f1-3892-4029-896a-63802048485d",
   "metadata": {},
   "outputs": [
    {
     "data": {
      "text/plain": [
       "['Instruction', 'Promotion']"
      ]
     },
     "execution_count": 3,
     "metadata": {},
     "output_type": "execute_result"
    }
   ],
   "source": [
    "\n",
    "predictions\n",
    "# Output: array([3, 8])\n",
    "\n",
    "[model.config.id2label[i] for i in predictions]\n",
    "# Output: ['Instruction', 'Promotion']\n"
   ]
  },
  {
   "cell_type": "code",
   "execution_count": 4,
   "id": "20a3a9ed-3edc-467f-8a0d-05d0388280e3",
   "metadata": {},
   "outputs": [],
   "source": [
    "pred, log = model.predict(dataset['train']['text'][:100])"
   ]
  },
  {
   "cell_type": "code",
   "execution_count": 5,
   "id": "3cb4c2ce-f8fc-4940-9501-41b7c46ee3bd",
   "metadata": {},
   "outputs": [
    {
     "name": "stdout",
     "output_type": "stream",
     "text": [
      "Value Information/Explanation appears 100 times.\n"
     ]
    }
   ],
   "source": [
    "pred_char = [model.config.id2label[i] for i in pred]\n",
    "\n",
    "# Count unique values\n",
    "unique_values, counts = np.unique(pred_char, return_counts=True)\n",
    "\n",
    "# Print result\n",
    "for value, count in zip(unique_values, counts):\n",
    "    print(f\"Value {value} appears {count} times.\")\n",
    "#print(frequency_table)"
   ]
  },
  {
   "cell_type": "code",
   "execution_count": null,
   "id": "a66cd9fa-a58e-4a09-9298-070883143e86",
   "metadata": {},
   "outputs": [],
   "source": []
  }
 ],
 "metadata": {
  "kernelspec": {
   "display_name": "Python 3",
   "language": "python",
   "name": "python3"
  },
  "language_info": {
   "codemirror_mode": {
    "name": "ipython",
    "version": 3
   },
   "file_extension": ".py",
   "mimetype": "text/x-python",
   "name": "python",
   "nbconvert_exporter": "python",
   "pygments_lexer": "ipython3",
   "version": "3.10.10"
  }
 },
 "nbformat": 4,
 "nbformat_minor": 5
}
