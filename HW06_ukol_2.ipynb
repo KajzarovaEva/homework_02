{
 "cells": [
  {
   "cell_type": "code",
   "execution_count": null,
   "id": "5859e2ae-097e-495f-bf85-e6a17a5e3cf6",
   "metadata": {},
   "outputs": [],
   "source": []
  }
 ],
 "metadata": {
  "kernelspec": {
   "display_name": "Python 3",
   "language": "python",
   "name": "python3"
  },
  "language_info": {
   "name": ""
  }
 },
 "nbformat": 4,
 "nbformat_minor": 5
}
